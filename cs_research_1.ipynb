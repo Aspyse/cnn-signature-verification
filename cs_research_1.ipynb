{
  "nbformat": 4,
  "nbformat_minor": 0,
  "metadata": {
    "colab": {
      "name": "cs-research-1.ipynb",
      "provenance": [],
      "collapsed_sections": [],
      "machine_shape": "hm"
    },
    "kernelspec": {
      "name": "python3",
      "display_name": "Python 3"
    }
  },
  "cells": [
    {
      "cell_type": "markdown",
      "metadata": {
        "id": "lQTM2jlcwqCx"
      },
      "source": [
        "**libraries setup**"
      ]
    },
    {
      "cell_type": "code",
      "metadata": {
        "id": "fL8COtlqbS0U",
        "colab": {
          "base_uri": "https://localhost:8080/",
          "height": 629
        },
        "outputId": "502f8673-1887-403f-e91d-ba907f6a377c"
      },
      "source": [
        "!pip install --upgrade pip\n",
        "!pip install tensorflow==2.1.0"
      ],
      "execution_count": null,
      "outputs": [
        {
          "output_type": "stream",
          "text": [
            "Requirement already up-to-date: pip in /usr/local/lib/python3.6/dist-packages (20.0.2)\n",
            "Requirement already satisfied: tensorflow==2.1.0 in /usr/local/lib/python3.6/dist-packages (2.1.0)\n",
            "Requirement already satisfied: astor>=0.6.0 in /usr/local/lib/python3.6/dist-packages (from tensorflow==2.1.0) (0.8.1)\n",
            "Requirement already satisfied: termcolor>=1.1.0 in /usr/local/lib/python3.6/dist-packages (from tensorflow==2.1.0) (1.1.0)\n",
            "Requirement already satisfied: wrapt>=1.11.1 in /usr/local/lib/python3.6/dist-packages (from tensorflow==2.1.0) (1.11.2)\n",
            "Requirement already satisfied: absl-py>=0.7.0 in /usr/local/lib/python3.6/dist-packages (from tensorflow==2.1.0) (0.9.0)\n",
            "Requirement already satisfied: keras-preprocessing>=1.1.0 in /usr/local/lib/python3.6/dist-packages (from tensorflow==2.1.0) (1.1.0)\n",
            "Requirement already satisfied: tensorflow-estimator<2.2.0,>=2.1.0rc0 in /usr/local/lib/python3.6/dist-packages (from tensorflow==2.1.0) (2.1.0)\n",
            "Requirement already satisfied: google-pasta>=0.1.6 in /usr/local/lib/python3.6/dist-packages (from tensorflow==2.1.0) (0.1.8)\n",
            "Requirement already satisfied: six>=1.12.0 in /usr/local/lib/python3.6/dist-packages (from tensorflow==2.1.0) (1.12.0)\n",
            "Requirement already satisfied: protobuf>=3.8.0 in /usr/local/lib/python3.6/dist-packages (from tensorflow==2.1.0) (3.10.0)\n",
            "Requirement already satisfied: grpcio>=1.8.6 in /usr/local/lib/python3.6/dist-packages (from tensorflow==2.1.0) (1.27.1)\n",
            "Requirement already satisfied: gast==0.2.2 in /usr/local/lib/python3.6/dist-packages (from tensorflow==2.1.0) (0.2.2)\n",
            "Requirement already satisfied: tensorboard<2.2.0,>=2.1.0 in /usr/local/lib/python3.6/dist-packages (from tensorflow==2.1.0) (2.1.0)\n",
            "Requirement already satisfied: wheel>=0.26; python_version >= \"3\" in /usr/local/lib/python3.6/dist-packages (from tensorflow==2.1.0) (0.34.2)\n",
            "Requirement already satisfied: numpy<2.0,>=1.16.0 in /usr/local/lib/python3.6/dist-packages (from tensorflow==2.1.0) (1.17.5)\n",
            "Requirement already satisfied: opt-einsum>=2.3.2 in /usr/local/lib/python3.6/dist-packages (from tensorflow==2.1.0) (3.1.0)\n",
            "Requirement already satisfied: keras-applications>=1.0.8 in /usr/local/lib/python3.6/dist-packages (from tensorflow==2.1.0) (1.0.8)\n",
            "Requirement already satisfied: scipy==1.4.1; python_version >= \"3\" in /usr/local/lib/python3.6/dist-packages (from tensorflow==2.1.0) (1.4.1)\n",
            "Requirement already satisfied: setuptools in /usr/local/lib/python3.6/dist-packages (from protobuf>=3.8.0->tensorflow==2.1.0) (45.1.0)\n",
            "Requirement already satisfied: markdown>=2.6.8 in /usr/local/lib/python3.6/dist-packages (from tensorboard<2.2.0,>=2.1.0->tensorflow==2.1.0) (3.2.1)\n",
            "Requirement already satisfied: werkzeug>=0.11.15 in /usr/local/lib/python3.6/dist-packages (from tensorboard<2.2.0,>=2.1.0->tensorflow==2.1.0) (1.0.0)\n",
            "Requirement already satisfied: google-auth<2,>=1.6.3 in /usr/local/lib/python3.6/dist-packages (from tensorboard<2.2.0,>=2.1.0->tensorflow==2.1.0) (1.7.2)\n",
            "Requirement already satisfied: requests<3,>=2.21.0 in /usr/local/lib/python3.6/dist-packages (from tensorboard<2.2.0,>=2.1.0->tensorflow==2.1.0) (2.21.0)\n",
            "Requirement already satisfied: google-auth-oauthlib<0.5,>=0.4.1 in /usr/local/lib/python3.6/dist-packages (from tensorboard<2.2.0,>=2.1.0->tensorflow==2.1.0) (0.4.1)\n",
            "Requirement already satisfied: h5py in /usr/local/lib/python3.6/dist-packages (from keras-applications>=1.0.8->tensorflow==2.1.0) (2.8.0)\n",
            "Requirement already satisfied: rsa<4.1,>=3.1.4 in /usr/local/lib/python3.6/dist-packages (from google-auth<2,>=1.6.3->tensorboard<2.2.0,>=2.1.0->tensorflow==2.1.0) (4.0)\n",
            "Requirement already satisfied: cachetools<3.2,>=2.0.0 in /usr/local/lib/python3.6/dist-packages (from google-auth<2,>=1.6.3->tensorboard<2.2.0,>=2.1.0->tensorflow==2.1.0) (3.1.1)\n",
            "Requirement already satisfied: pyasn1-modules>=0.2.1 in /usr/local/lib/python3.6/dist-packages (from google-auth<2,>=1.6.3->tensorboard<2.2.0,>=2.1.0->tensorflow==2.1.0) (0.2.8)\n",
            "Requirement already satisfied: urllib3<1.25,>=1.21.1 in /usr/local/lib/python3.6/dist-packages (from requests<3,>=2.21.0->tensorboard<2.2.0,>=2.1.0->tensorflow==2.1.0) (1.24.3)\n",
            "Requirement already satisfied: certifi>=2017.4.17 in /usr/local/lib/python3.6/dist-packages (from requests<3,>=2.21.0->tensorboard<2.2.0,>=2.1.0->tensorflow==2.1.0) (2019.11.28)\n",
            "Requirement already satisfied: chardet<3.1.0,>=3.0.2 in /usr/local/lib/python3.6/dist-packages (from requests<3,>=2.21.0->tensorboard<2.2.0,>=2.1.0->tensorflow==2.1.0) (3.0.4)\n",
            "Requirement already satisfied: idna<2.9,>=2.5 in /usr/local/lib/python3.6/dist-packages (from requests<3,>=2.21.0->tensorboard<2.2.0,>=2.1.0->tensorflow==2.1.0) (2.8)\n",
            "Requirement already satisfied: requests-oauthlib>=0.7.0 in /usr/local/lib/python3.6/dist-packages (from google-auth-oauthlib<0.5,>=0.4.1->tensorboard<2.2.0,>=2.1.0->tensorflow==2.1.0) (1.3.0)\n",
            "Requirement already satisfied: pyasn1>=0.1.3 in /usr/local/lib/python3.6/dist-packages (from rsa<4.1,>=3.1.4->google-auth<2,>=1.6.3->tensorboard<2.2.0,>=2.1.0->tensorflow==2.1.0) (0.4.8)\n",
            "Requirement already satisfied: oauthlib>=3.0.0 in /usr/local/lib/python3.6/dist-packages (from requests-oauthlib>=0.7.0->google-auth-oauthlib<0.5,>=0.4.1->tensorboard<2.2.0,>=2.1.0->tensorflow==2.1.0) (3.1.0)\n"
          ],
          "name": "stdout"
        }
      ]
    },
    {
      "cell_type": "code",
      "metadata": {
        "id": "tLb5_zb2Ukw3"
      },
      "source": [
        "import tensorflow as tf"
      ],
      "execution_count": null,
      "outputs": []
    },
    {
      "cell_type": "code",
      "metadata": {
        "id": "24VSA5J5Yflk",
        "colab": {
          "base_uri": "https://localhost:8080/",
          "height": 34
        },
        "outputId": "5b7e449d-e308-42be-f450-5845c7e30305"
      },
      "source": [
        "tf.__version__  # check tf version of runtime"
      ],
      "execution_count": null,
      "outputs": [
        {
          "output_type": "execute_result",
          "data": {
            "text/plain": [
              "'2.1.0'"
            ]
          },
          "metadata": {
            "tags": []
          },
          "execution_count": 50
        }
      ]
    },
    {
      "cell_type": "code",
      "metadata": {
        "id": "LqBx60sGYbYy"
      },
      "source": [
        "from __future__ import absolute_import, division, print_function, unicode_literals  #backwards-compatibility and future-proofing\n",
        "\n",
        "# number processing\n",
        "import numpy as np \n",
        "\n",
        "# file handling\n",
        "import os\n",
        "import pathlib\n",
        "from glob import glob\n",
        "\n",
        "# archive handling\n",
        "import requests\n",
        "import zipfile\n",
        "import tarfile"
      ],
      "execution_count": null,
      "outputs": []
    },
    {
      "cell_type": "markdown",
      "metadata": {
        "id": "SmBacTP8D63o"
      },
      "source": [
        ""
      ]
    },
    {
      "cell_type": "code",
      "metadata": {
        "id": "zI84Cv41k78c",
        "colab": {
          "base_uri": "https://localhost:8080/",
          "height": 34
        },
        "outputId": "823b98f6-5adb-4373-ac0e-6d29a383f574"
      },
      "source": [
        "tf.executing_eagerly()"
      ],
      "execution_count": null,
      "outputs": [
        {
          "output_type": "execute_result",
          "data": {
            "text/plain": [
              "True"
            ]
          },
          "metadata": {
            "tags": []
          },
          "execution_count": 52
        }
      ]
    },
    {
      "cell_type": "markdown",
      "metadata": {
        "id": "gQXqvQ-ywL7U"
      },
      "source": [
        "**importing datasets as .zip starts here**"
      ]
    },
    {
      "cell_type": "code",
      "metadata": {
        "id": "InX98bSHnFdS",
        "colab": {
          "base_uri": "https://localhost:8080/",
          "height": 34
        },
        "outputId": "85da53df-73c8-4ac7-89d0-b19636564094"
      },
      "source": [
        "url = 'http://www.iapr-tc11.org/dataset/ICDAR_SignatureVerification/SigComp2011/sigComp2011-trainingSet.zip'\n",
        "r = requests.get(url, allow_redirects=True)\n",
        "open('sigcomp2011.zip', 'wb').write(r.content)\n",
        "#sigcomp2011"
      ],
      "execution_count": null,
      "outputs": [
        {
          "output_type": "execute_result",
          "data": {
            "text/plain": [
              "245154271"
            ]
          },
          "metadata": {
            "tags": []
          },
          "execution_count": 53
        }
      ]
    },
    {
      "cell_type": "code",
      "metadata": {
        "id": "X5012YdtGDdK",
        "colab": {
          "base_uri": "https://localhost:8080/",
          "height": 34
        },
        "outputId": "d8930ced-15fd-47c6-ab28-1c3784c43b38"
      },
      "source": [
        "url = 'http://www.iapr-tc11.org/dataset/4NSigComp2010/Dataset_4NSigComp2010.zip'\n",
        "r = requests.get(url, allow_redirects=True)\n",
        "open('4nsigcomp2010.zip', 'wb').write(r.content)\n",
        "#4nsigcomp2010"
      ],
      "execution_count": null,
      "outputs": [
        {
          "output_type": "execute_result",
          "data": {
            "text/plain": [
              "1522758855"
            ]
          },
          "metadata": {
            "tags": []
          },
          "execution_count": 54
        }
      ]
    },
    {
      "cell_type": "code",
      "metadata": {
        "id": "tlbFL4nucT7h",
        "colab": {
          "base_uri": "https://localhost:8080/",
          "height": 34
        },
        "outputId": "55e9ba27-7b99-4fa3-c8bd-23d1f81f968f"
      },
      "source": [
        "url = 'http://www.iapr-tc11.org/dataset/4NSigComp2012/Testset_4NsigComp2012.zip'\n",
        "r = requests.get(url, allow_redirects=True)\n",
        "open('4nsigcomp2012.zip', 'wb').write(r.content)\n",
        "#4nsigcomp2012"
      ],
      "execution_count": null,
      "outputs": [
        {
          "output_type": "execute_result",
          "data": {
            "text/plain": [
              "250615477"
            ]
          },
          "metadata": {
            "tags": []
          },
          "execution_count": 55
        }
      ]
    },
    {
      "cell_type": "code",
      "metadata": {
        "id": "OqyBDlPC4j8g",
        "colab": {
          "base_uri": "https://localhost:8080/",
          "height": 34
        },
        "outputId": "dde5685e-171f-401a-9009-ab3b89e17cb7"
      },
      "source": [
        "payload = {\n",
        "    'email': 'happy.quintis@gmail.com',\n",
        "    'password': 'exufen'\n",
        "}\n",
        "\n",
        "with requests.Session() as s:\n",
        "    p = s.post('http://tc11.cvc.uab.es/user/login', data=payload)\n",
        "    # print the html returned or something more intelligent to see if it's a successful login page.\n",
        "    print (p.text)\n",
        "\n",
        "    r = s.get('http://tc11.cvc.uab.es/index.php?com=upload&action=file_down&section=dataset&section_id=114&file=132')\n",
        "    open('sigwicomp2013.zip', 'wb').write(r.content)\n",
        "\n",
        "    r = s.get('http://tc11.cvc.uab.es/index.php?com=upload&action=file_down&section=dataset&section_id=180&file=176')\n",
        "    open('sigwicomp2015.zip', 'wb').write(r.content)"
      ],
      "execution_count": null,
      "outputs": [
        {
          "output_type": "stream",
          "text": [
            "{ \"success\" : true }\n"
          ],
          "name": "stdout"
        }
      ]
    },
    {
      "cell_type": "markdown",
      "metadata": {
        "id": "3C3OycOAwx3v"
      },
      "source": [
        "**extracting datasets**"
      ]
    },
    {
      "cell_type": "code",
      "metadata": {
        "id": "tYnnt383qVcr"
      },
      "source": [
        "# passwords\n",
        "psigcomp2011 = 'I hereby accept the SigComp 2011 disclaimer.'.encode('utf-8')\n",
        "p4nsigcomp2010 = 'I hereby accept the 4NSigComp2010 disclaimer.'.encode('utf-8')\n",
        "p4nsigcomp2012 = 'I hereby accept the 4NsigComp2012 disclaimer.'.encode('utf-8')\n",
        "psigwicomp2013 = 'IherebyaccepttheSigWiComp2013disclaimer'.encode('utf-8')\n",
        "psigwicomp2015 = 'IherebyaccepttheSigWIcomp2015disclaimer'.encode('utf-8')"
      ],
      "execution_count": null,
      "outputs": []
    },
    {
      "cell_type": "code",
      "metadata": {
        "id": "1BMFz1L4BwDe"
      },
      "source": [
        "# extract sigcomp2011\n",
        "with zipfile.ZipFile(\"sigcomp2011.zip\",\"r\") as zip_ref:\n",
        "    zip_ref.extractall(\"datasets/sigcomp2011\", pwd=psigcomp2011)"
      ],
      "execution_count": null,
      "outputs": []
    },
    {
      "cell_type": "code",
      "metadata": {
        "id": "loUgYfHN8sd9"
      },
      "source": [
        "# extract 4nsigcomp2010\n",
        "with zipfile.ZipFile(\"4nsigcomp2010.zip\",\"r\") as zip_ref:\n",
        "    zip_ref.extractall(\"datasets/4nsigcomp2010\", pwd=p4nsigcomp2010)"
      ],
      "execution_count": null,
      "outputs": []
    },
    {
      "cell_type": "code",
      "metadata": {
        "id": "95CYS6dFcnzJ"
      },
      "source": [
        "# extract 4nsigcomp2012\n",
        "with zipfile.ZipFile(\"4nsigcomp2012.zip\",\"r\") as zip_ref:\n",
        "    zip_ref.extractall(\"datasets/4nsigcomp2012\", pwd=p4nsigcomp2012)"
      ],
      "execution_count": null,
      "outputs": []
    },
    {
      "cell_type": "code",
      "metadata": {
        "id": "weKHTQh1rkK1"
      },
      "source": [
        "# extract sigwicomp2013\n",
        "with zipfile.ZipFile(\"sigwicomp2013.zip\",\"r\") as zip_ref:\n",
        "    zip_ref.extractall(\"datasets/sigwicomp2013\", pwd=psigwicomp2013)"
      ],
      "execution_count": null,
      "outputs": []
    },
    {
      "cell_type": "code",
      "metadata": {
        "id": "wG9oTj6ms4V8"
      },
      "source": [
        "# extract sigwicomp2015\n",
        "with zipfile.ZipFile(\"sigwicomp2015.zip\",\"r\") as zip_ref:\n",
        "    zip_ref.extractall(\"datasets/sigwicomp2015\", pwd=psigwicomp2015)"
      ],
      "execution_count": null,
      "outputs": []
    },
    {
      "cell_type": "code",
      "metadata": {
        "id": "Q4ibVfoZC3kX"
      },
      "source": [
        "# extract more sigwicomp2015\n",
        "with zipfile.ZipFile(\"datasets/sigwicomp2015/SigWIcomp2015-Data/Italian-Training.zip\",\"r\") as zip_ref:\n",
        "    zip_ref.extractall(\"datasets/sigwicomp2015i\", pwd=psigwicomp2015)"
      ],
      "execution_count": null,
      "outputs": []
    },
    {
      "cell_type": "code",
      "metadata": {
        "id": "dINV9ojp1DkC",
        "colab": {
          "base_uri": "https://localhost:8080/",
          "height": 51
        },
        "outputId": "9eaa056c-e5b1-40cf-aa18-5a308d205b9a"
      },
      "source": [
        "# check filetree\n",
        "currentDirectory = pathlib.Path('./datasets/sigcomp2011/trainingSet/OfflineSignatures')\n",
        "a = 0\n",
        "for currentFile in currentDirectory.iterdir():\n",
        "    a += 1\n",
        "    print(currentFile)"
      ],
      "execution_count": null,
      "outputs": [
        {
          "output_type": "stream",
          "text": [
            "datasets/sigcomp2011/trainingSet/OfflineSignatures/Dutch\n",
            "datasets/sigcomp2011/trainingSet/OfflineSignatures/Chinese\n"
          ],
          "name": "stdout"
        }
      ]
    },
    {
      "cell_type": "markdown",
      "metadata": {
        "id": "hRSeFHqWyn_i"
      },
      "source": [
        "**convert dataset**"
      ]
    },
    {
      "cell_type": "code",
      "metadata": {
        "id": "w1gQCUepxp3I"
      },
      "source": [
        "f_2009g = glob('datasets/sigwicomp2013/TrainDutch/SigComp2009/Offline/Genuine/*/*.PNG')\n",
        "f_2009f = glob('datasets/sigwicomp2013/TrainDutch/SigComp2009/Offline/Forged/*/*.PNG')\n",
        "\n",
        "f_2010ga = glob('datasets/4nsigcomp2010/Dataset_4NSigComp2010/TrainingSet/Genuine/*.png')\n",
        "f_2010ra = glob('datasets/4nsigcomp2010/Dataset_4NSigComp2010/TrainingSet/Reference/*.png')\n",
        "f_2010rb = glob('datasets/4nsigcomp2010/Dataset_4NSigComp2010/TrainingSet/Reference/*.PNG')\n",
        "f_2010rc = glob('datasets/4nsigcomp2010/Dataset_4NSigComp2010/TestSet/Reference/*.png')\n",
        "\n",
        "f_2010g = f_2010ga + f_2010ra + f_2010rb + f_2010rc\n",
        "f_2010f = glob('datasets/4nsigcomp2010/Dataset_4NSigComp2010/TrainingSet/Simulated/*.png')\n",
        "\n",
        "f_2011ga = glob('datasets/sigcomp2011/trainingSet/OfflineSignatures/Dutch/TrainingSet/Offline Genuine/*.PNG')\n",
        "f_2011gb = glob('datasets/sigcomp2011/trainingSet/OfflineSignatures/Dutch/TrainingSet/Offline Genuine/*.png')\n",
        "\n",
        "f_2011g = f_2011ga + f_2011gb\n",
        "f_2011f = glob('datasets/sigcomp2011/trainingSet/OfflineSignatures/Dutch/TrainingSet/Offline Forgeries/*.png')\n",
        "\n",
        "f_2012g = glob('datasets/4nsigcomp2012/Testset_4NsigComp2012/Ref/*/*.PNG')"
      ],
      "execution_count": null,
      "outputs": []
    },
    {
      "cell_type": "code",
      "metadata": {
        "id": "fC2K_n8CWRP5",
        "colab": {
          "base_uri": "https://localhost:8080/",
          "height": 34
        },
        "outputId": "7a8a6e86-7dd4-44db-f9f1-fb8966642ba9"
      },
      "source": [
        "len(f_2009f)"
      ],
      "execution_count": null,
      "outputs": [
        {
          "output_type": "execute_result",
          "data": {
            "text/plain": [
              "1838"
            ]
          },
          "metadata": {
            "tags": []
          },
          "execution_count": 67
        }
      ]
    },
    {
      "cell_type": "code",
      "metadata": {
        "id": "S3iOORS1XmFa"
      },
      "source": [
        "a_2009g = [tf.io.read_file(f) for f in f_2009g]\n",
        "a_2009f = [tf.io.read_file(f) for f in f_2009f]\n",
        "\n",
        "a_2010g = [tf.io.read_file(f) for f in f_2010g]\n",
        "a_2010f = [tf.io.read_file(f) for f in f_2010f]\n",
        "\n",
        "a_2011g = [tf.io.read_file(f) for f in f_2011g]\n",
        "a_2011f = [tf.io.read_file(f) for f in f_2011f]\n",
        "\n",
        "a_2012g = [tf.io.read_file(f) for f in f_2012g]"
      ],
      "execution_count": null,
      "outputs": []
    },
    {
      "cell_type": "markdown",
      "metadata": {
        "id": "iKaQYL-keJh2"
      },
      "source": [
        "**variables**"
      ]
    },
    {
      "cell_type": "code",
      "metadata": {
        "id": "-emPG_79d9tH"
      },
      "source": [
        "IMG_HEIGHT = 775\n",
        "IMG_WIDTH = 224\n",
        "CLASS_NAMES = np.array([\"Genuine\",\"Forged\"])\n",
        "BATCH_SIZE = 30\n",
        "EPOCH_SIZE = 10"
      ],
      "execution_count": null,
      "outputs": []
    },
    {
      "cell_type": "markdown",
      "metadata": {
        "id": "gW7X6cARMfJN"
      },
      "source": [
        "**convert to numpy**"
      ]
    },
    {
      "cell_type": "code",
      "metadata": {
        "id": "VI995Nt88sLN"
      },
      "source": [
        "def setupImg(array): \n",
        "  for i in range(len(array)):\n",
        "    oof = array[i]\n",
        "    oof = tf.image.decode_png(oof, channels=1)\n",
        "    oof = tf.image.convert_image_dtype(oof, tf.float32)\n",
        "    oof = tf.image.resize(oof, [IMG_WIDTH, IMG_HEIGHT])\n",
        "    array[i] = oof.numpy()\n",
        "  return array"
      ],
      "execution_count": null,
      "outputs": []
    },
    {
      "cell_type": "code",
      "metadata": {
        "id": "uyfunGboj1Ph",
        "colab": {
          "base_uri": "https://localhost:8080/",
          "height": 34
        },
        "outputId": "1031edcc-6bc8-4354-a52c-bb6887535196"
      },
      "source": [
        "a_g = a_2009g+a_2010g+a_2011g+a_2012g+a_2015i\n",
        "a_g = np.array(setupImg(a_g)) # decodes genuines\n",
        "a_g.shape"
      ],
      "execution_count": null,
      "outputs": [
        {
          "output_type": "execute_result",
          "data": {
            "text/plain": [
              "(716, 224, 775, 1)"
            ]
          },
          "metadata": {
            "tags": []
          },
          "execution_count": 71
        }
      ]
    },
    {
      "cell_type": "code",
      "metadata": {
        "id": "TYJAP8n3v827",
        "colab": {
          "base_uri": "https://localhost:8080/",
          "height": 34
        },
        "outputId": "b5b94852-62d4-474c-8a80-9f4f831dd644"
      },
      "source": [
        "a_f = a_2009f+a_2010f+a_2011f\n",
        "a_f = np.array(setupImg(a_f)) # decodes forgeries\n",
        "a_f.shape"
      ],
      "execution_count": null,
      "outputs": [
        {
          "output_type": "execute_result",
          "data": {
            "text/plain": [
              "(2065, 224, 775, 1)"
            ]
          },
          "metadata": {
            "tags": []
          },
          "execution_count": 72
        }
      ]
    },
    {
      "cell_type": "code",
      "metadata": {
        "id": "sRmzzNGVmLkV",
        "colab": {
          "base_uri": "https://localhost:8080/",
          "height": 34
        },
        "outputId": "5598eaa4-ec6e-4cf2-d33f-436d07ba521d"
      },
      "source": [
        "from google.colab import drive\n",
        "drive.mount(\"/content/drive\")\n",
        "np.savez(\"/content/drive/My Drive/a_rs.npz\", a_g=a_g, a_f=a_f)"
      ],
      "execution_count": null,
      "outputs": [
        {
          "output_type": "stream",
          "text": [
            "Drive already mounted at /content/drive; to attempt to forcibly remount, call drive.mount(\"/content/drive\", force_remount=True).\n"
          ],
          "name": "stdout"
        }
      ]
    },
    {
      "cell_type": "markdown",
      "metadata": {
        "id": "EXaznZqclHL2"
      },
      "source": [
        "**stop here**"
      ]
    }
  ]
}